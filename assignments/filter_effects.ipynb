{
 "cells": [
  {
   "cell_type": "markdown",
   "metadata": {},
   "source": [
    "# Filter effects"
   ]
  },
  {
   "cell_type": "code",
   "execution_count": null,
   "metadata": {},
   "outputs": [],
   "source": [
    "import matplotlib.pyplot as plt\n",
    "import numpy as np\n",
    "import scipy\n",
    "import scipy\n",
    "import skimage\n",
    "\n",
    "import sys\n",
    "\n",
    "sys.path.append('..')\n",
    "from tests import test_filter_effects"
   ]
  },
  {
   "cell_type": "markdown",
   "metadata": {},
   "source": [
    "# Task 1: Depth of field effect"
   ]
  },
  {
   "cell_type": "markdown",
   "metadata": {},
   "source": [
    "1. Load a source image $s$ from `../data/track.png`.\n",
    "2. Load a focus mask $f$ from `../data/track_mask.png`.\n",
    "3. Blur the source image $s$ using a Gaussian filter with appropriate $\\sigma_s$ to produce blurred image $b$.\n",
    "4. Replace nonzero values in $f$ by a vertical linear ramp going from zero (closest to zero values) to one (farthest from zero values). You can use [distance transform](https://docs.scipy.org/doc/scipy/reference/generated/scipy.ndimage.distance_transform_edt.html). We'll denote the result as weights $w$.\n",
    "5. Combine (blend) the source image $s$ and the blurred version $b$ by using the weights $w$ computed in point 4 as\n",
    "   $$\n",
    "   d = w \\cdot s + (1 - w) \\cdot b\n",
    "   $$\n",
    "\n",
    "<figure class=\"image\">\n",
    "  <img src=\"../figures/filter_effects-expected_dof_outputs.png\" alt=\"\" style=\"width: 12.8in;\"/>\n",
    "  <figcaption>Figure 1: Expected outputs of the fake depth of field effect</figcaption>\n",
    "</figure>"
   ]
  },
  {
   "cell_type": "code",
   "execution_count": null,
   "metadata": {},
   "outputs": [],
   "source": [
    "def depth_of_field(img: np.ndarray, mask: np.ndarray, sigma: float = 0.0) -> np.ndarray:\n",
    "    \"\"\"\n",
    "    Args:\n",
    "        img (np.ndarray): Input image of shape (H, W, C) or (H, W).\n",
    "        mask (np.ndarray): Binary mask of shape (H, W) where 1 indicates focused areas and 0 indicates unfocused areas.\n",
    "            The transition between focused and unfocused areas is smooth, controlled by a Gaussian blur.\n",
    "        sigma (float): Standard deviation for Gaussian kernel used for blurring. Higher values result in more blur.\n",
    "    Returns:\n",
    "        np.ndarray: Image with depth-of-field effect applied, same shape as input image.\n",
    "    \"\"\"\n",
    "    ########################################\n",
    "    # TODO: implement\n",
    "\n",
    "    raise NotImplementedError\n",
    "\n",
    "    # ENDTODO\n",
    "    ########################################\n",
    "\n",
    "    return dof"
   ]
  },
  {
   "cell_type": "code",
   "execution_count": null,
   "metadata": {},
   "outputs": [],
   "source": [
    "rgb = skimage.util.img_as_float(skimage.io.imread('../data/track.jpg'))\n",
    "print(rgb.shape, rgb.dtype, rgb.min(), rgb.max())\n",
    "mask = skimage.util.img_as_float(skimage.io.imread('../data/track_mask.png'))[..., 0]\n",
    "print(mask.shape, mask.dtype, mask.min(), mask.max())"
   ]
  },
  {
   "cell_type": "code",
   "execution_count": null,
   "metadata": {},
   "outputs": [],
   "source": [
    "dof = depth_of_field(rgb, mask, sigma=6.)\n",
    "dof.shape, dof.dtype, dof.min(), dof.max()"
   ]
  },
  {
   "cell_type": "code",
   "execution_count": null,
   "metadata": {},
   "outputs": [],
   "source": [
    "fig, axes = plt.subplots(1, 2, figsize=(8, 6))\n",
    "axes[0].imshow(rgb);\n",
    "axes[1].imshow(dof);"
   ]
  },
  {
   "cell_type": "code",
   "execution_count": null,
   "metadata": {},
   "outputs": [],
   "source": [
    "test_filter_effects.TestDepthOfField.eval(depth_of_field_fn=depth_of_field)"
   ]
  },
  {
   "cell_type": "markdown",
   "metadata": {},
   "source": [
    "# Task 2: Jitter effect"
   ]
  },
  {
   "cell_type": "markdown",
   "metadata": {},
   "source": [
    "- Jitter effect is an example of *nonhomogennous filter*, which means that for each image position, the filter kernel is different.\n",
    "- The kernel is a matrix of size $K \\times K$ with zeros everywhere except a single randomly placed unit impulse.\n",
    "- For example, for $K = 5$, the kernel might be (notice the single \"1\" at top right)\n",
    "  $$\n",
    "  \\boldsymbol{h} = \\begin{bmatrix}\n",
    "    0 & 0 & 0 & 1 & 0 \\\\\n",
    "    0 & 0 & 0 & 0 & 0 \\\\\n",
    "    0 & 0 & 0 & 0 & 0 \\\\\n",
    "    0 & 0 & 0 & 0 & 0 \\\\\n",
    "    0 & 0 & 0 & 0 & 0\n",
    "  \\end{bmatrix}\n",
    "  $$\n",
    "- The position of the \"1\" is uniformly and independently random for each pixel, i.e. it can be anywhere in the $K \\times K$ kernel with equal probability.\n",
    "- Size $K$ of the kernel is fixed to the same value for all pixels.\n",
    "\n",
    "<figure class=\"image\">\n",
    "  <img src=\"../figures/filter_effects-expected_jitter_outputs.png\" alt=\"\" style=\"width: 6.4in;\"/>\n",
    "  <figcaption>Figure 2: Expected output of jitter effect</figcaption>\n",
    "</figure>\n",
    "\n",
    "**Task**\n",
    "1. Load the source image `../data/fruits.jpg`.\n",
    "2. Implement `jitter_filter` function.\n",
    "3. Apply the function to the source image."
   ]
  },
  {
   "cell_type": "code",
   "execution_count": null,
   "metadata": {},
   "outputs": [],
   "source": [
    "rgb = skimage.io.imread('../data/fruits.jpg')\n",
    "rgb = skimage.util.img_as_float(rgb)"
   ]
  },
  {
   "cell_type": "code",
   "execution_count": null,
   "metadata": {},
   "outputs": [],
   "source": [
    "plt.imshow(rgb);"
   ]
  },
  {
   "cell_type": "code",
   "execution_count": null,
   "metadata": {},
   "outputs": [],
   "source": [
    "def jitter_filter(img: np.ndarray, jitter: int = 1) -> np.ndarray:\n",
    "    \"\"\"\n",
    "    Args:\n",
    "        img: input image (RGB)\n",
    "        jitter: jitter strength and half of the kernel_size, i.e. 2*jitter+1=kernel_size\n",
    "    Returns:\n",
    "        out: image processed by the jitter filter of strength `jitter`\n",
    "    \"\"\"\n",
    "    ########################################\n",
    "    # TODO: implement\n",
    "\n",
    "    raise NotImplementedError\n",
    "\n",
    "    # ENDTODO\n",
    "    ########################################"
   ]
  },
  {
   "cell_type": "code",
   "execution_count": null,
   "metadata": {},
   "outputs": [],
   "source": [
    "rgb_jit = jitter_filter(rgb, jitter=10)"
   ]
  },
  {
   "cell_type": "code",
   "execution_count": null,
   "metadata": {},
   "outputs": [],
   "source": [
    "plt.imshow(rgb_jit);"
   ]
  },
  {
   "cell_type": "code",
   "execution_count": null,
   "metadata": {},
   "outputs": [],
   "source": [
    "test_filter_effects.TestJitterEffect.eval(jitter_filter_fn=jitter_filter)"
   ]
  }
 ],
 "metadata": {
  "kernelspec": {
   "display_name": "ima-2025",
   "language": "python",
   "name": "python3"
  },
  "language_info": {
   "codemirror_mode": {
    "name": "ipython",
    "version": 3
   },
   "file_extension": ".py",
   "mimetype": "text/x-python",
   "name": "python",
   "nbconvert_exporter": "python",
   "pygments_lexer": "ipython3",
   "version": "3.12.8"
  }
 },
 "nbformat": 4,
 "nbformat_minor": 2
}
